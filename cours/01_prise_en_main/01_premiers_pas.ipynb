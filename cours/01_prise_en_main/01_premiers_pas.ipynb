{
  "nbformat": 4,
  "nbformat_minor": 0,
  "metadata": {
    "celltoolbar": "Diaporama",
    "kernelspec": {
      "display_name": "Python 3",
      "language": "python",
      "name": "python3"
    },
    "language_info": {
      "codemirror_mode": {
        "name": "ipython",
        "version": 3
      },
      "file_extension": ".py",
      "mimetype": "text/x-python",
      "name": "python",
      "nbconvert_exporter": "python",
      "pygments_lexer": "ipython3",
      "version": "3.7.6"
    },
    "colab": {
      "name": "01_premiers_pas.ipynb",
      "provenance": []
    }
  },
  "cells": [
    {
      "cell_type": "markdown",
      "metadata": {
        "id": "rrCRzoXd7KnO"
      },
      "source": [
        "# Cours 1 : premiers pas avec Python"
      ]
    },
    {
      "cell_type": "markdown",
      "metadata": {
        "id": "sZpKfD4W7KnV"
      },
      "source": [
        "## 1. Utilisation du notebook Python\n",
        "---\n",
        "\n",
        "Un notebook est constitué de 2 sortes de *cellules*:\n",
        "\n",
        "* celles qui affichent du *texte formaté* \n",
        "* celles qui évaluent du *code Python*\n",
        "\n",
        "Ceci est une cellule de texte qui peut être éditée en double-cliquant dessus.\n",
        "On voit apparaître des *commandes* du langage [markdown](https://fr.wikipedia.org/wiki/Markdown).\n",
        "\n",
        "Voici maintenant une cellule de code Python:"
      ]
    },
    {
      "cell_type": "code",
      "metadata": {
        "id": "qPrQqmrY7KnZ"
      },
      "source": [
        "5 + 3.2 / 10"
      ],
      "execution_count": null,
      "outputs": []
    },
    {
      "cell_type": "markdown",
      "metadata": {
        "id": "svCz6q297Knx"
      },
      "source": [
        "Le notebook permet d'écrire des programmes très lisibles, mais l'usage des outils de programmation est limité."
      ]
    },
    {
      "cell_type": "markdown",
      "metadata": {
        "id": "8qN4eMS27Knz"
      },
      "source": [
        "**Evaluation d'une cellule de code**\n",
        "\n",
        "---"
      ]
    },
    {
      "cell_type": "code",
      "metadata": {
        "id": "VKIkLS4G7Kn4"
      },
      "source": [
        "5 + 3.2 / 10"
      ],
      "execution_count": null,
      "outputs": []
    },
    {
      "cell_type": "markdown",
      "metadata": {
        "id": "9juBc4pW7KoI"
      },
      "source": [
        "Pour évaluer cette *expression* numérique, taper sur les touches `SHIFT + ENTREE` du clavier après avoir cliqué sur la cellule. Apparaissent alors:\n",
        "* un texte en sortie qui est la *valeur de l'expression*\n",
        "* un numéro à côté de la cellule qui est son *ordre d'évaluation* qui peut être différent de son ordre d'apparition."
      ]
    },
    {
      "cell_type": "markdown",
      "metadata": {
        "id": "5eJ2M0bZ7KoL"
      },
      "source": [
        "**Le notebook comme une calculatrice**\n",
        "\n",
        "---\n",
        "Dans le cours de Python, vos notes sont `8.5`, `12` et `9.5` de coefficients respectifs `1`, `2` et `3`. Avez-vous obtenu la moyenne?\n"
      ]
    },
    {
      "cell_type": "code",
      "metadata": {
        "id": "UPI6BRwx7KoO"
      },
      "source": [
        ""
      ],
      "execution_count": null,
      "outputs": []
    },
    {
      "cell_type": "markdown",
      "metadata": {
        "id": "0EgiXlw77Kod"
      },
      "source": [
        "**Quelques commentaires**\n",
        "\n",
        "---"
      ]
    },
    {
      "cell_type": "code",
      "metadata": {
        "id": "uOp0E3AA7Koh"
      },
      "source": [
        "(8.5 * 1 + 12 * 2 + 9.5 * 3) / (1 + 2 + 3) >= 10"
      ],
      "execution_count": null,
      "outputs": []
    },
    {
      "cell_type": "markdown",
      "metadata": {
        "id": "Cb9IpD6J7Kow"
      },
      "source": [
        "* les nombres flottants s'écrivent avec un point et pas une virgule;\n",
        "* les caractères `+`, `*`, `>=`, etc. s'appellent des *opérateurs*;\n",
        "* les règles de priorité des expressions mathématiques s'appliquent et peuvent nécessiter l'usage des parenthèses;\n",
        "* les espaces sont facultatifs, mais les règles de style recommandent (voir [PEP8](https://www.python.org/dev/peps/pep-0008/)):\n",
        "    * un seul espace avant et après les opérateurs (+, /, etc...);\n",
        "    * pas d'espace à l'intérieur des parenthèses;\n",
        "    * si pas trop longue, l'expression est écrite sur une seule ligne"
      ]
    },
    {
      "cell_type": "markdown",
      "metadata": {
        "id": "OM7PbL947Koz"
      },
      "source": [
        "**Stocker un résultat**\n",
        "\n",
        "---\n",
        "\n",
        "L'instruction suivante sauve le résultat de l'expression `2 ** 10` dans la *variable* `a`."
      ]
    },
    {
      "cell_type": "code",
      "metadata": {
        "id": "OEJDSi4r7Ko1"
      },
      "source": [
        "a = 2 ** 10"
      ],
      "execution_count": null,
      "outputs": []
    },
    {
      "cell_type": "markdown",
      "metadata": {
        "id": "HqYdHE8r7KpF"
      },
      "source": [
        "* pas de texte en sortie;\n",
        "* car cette instruction est une *affectation* qui n'a pas de valeur (contrairement aux expressions);"
      ]
    },
    {
      "cell_type": "markdown",
      "metadata": {
        "id": "WhBUHlzu7KpK"
      },
      "source": [
        "**Afficher la valeur de la variable**\n",
        "\n",
        "---\n",
        "Deux possibilités:"
      ]
    },
    {
      "cell_type": "code",
      "metadata": {
        "id": "di5aZEGH7KpM"
      },
      "source": [
        "a"
      ],
      "execution_count": null,
      "outputs": []
    },
    {
      "cell_type": "code",
      "metadata": {
        "id": "67ZWOrP77KpZ"
      },
      "source": [
        "print(a)"
      ],
      "execution_count": null,
      "outputs": []
    },
    {
      "cell_type": "markdown",
      "metadata": {
        "id": "ltJgCcRQ7Kpw"
      },
      "source": [
        "La première est spécifique du notebook. \n",
        "\n",
        "Il vaut mieux **privilégier la seconde**.\n",
        "\n",
        "**Question**: au final, que calcule l'expression `2 ** 10`?"
      ]
    },
    {
      "cell_type": "markdown",
      "metadata": {
        "id": "vT07n4RU7Kpz"
      },
      "source": [
        "**Ordre d'évaluation du notebook: prudence**\n",
        "\n",
        "---"
      ]
    },
    {
      "cell_type": "markdown",
      "metadata": {
        "id": "zHgud5Ru7Kp2"
      },
      "source": [
        "Montrer que l'affichage dépend de l'ordre d'évaluation et pas de l'ordre d'apparition en évaluant les cellules plusieurs fois dans des ordres différents."
      ]
    },
    {
      "cell_type": "code",
      "metadata": {
        "id": "nQCZ3y667Kp4"
      },
      "source": [
        "print(a)"
      ],
      "execution_count": null,
      "outputs": []
    },
    {
      "cell_type": "code",
      "metadata": {
        "id": "3VsQgOps7KqD"
      },
      "source": [
        "a = False"
      ],
      "execution_count": null,
      "outputs": []
    },
    {
      "cell_type": "code",
      "metadata": {
        "id": "M4w7wrd87KqV"
      },
      "source": [
        "print(a)"
      ],
      "execution_count": null,
      "outputs": []
    },
    {
      "cell_type": "code",
      "metadata": {
        "id": "lfcqKyIr7Kqg"
      },
      "source": [
        "a = 0.1 ** 10"
      ],
      "execution_count": null,
      "outputs": []
    },
    {
      "cell_type": "code",
      "metadata": {
        "id": "_dKdeo-j7Kqr"
      },
      "source": [
        "print(a)"
      ],
      "execution_count": null,
      "outputs": []
    },
    {
      "cell_type": "markdown",
      "metadata": {
        "id": "ddocIRAO7Kq1"
      },
      "source": [
        "**Le notebook ne se limite pas à des calculs numériques**\n",
        "\n",
        "---"
      ]
    },
    {
      "cell_type": "code",
      "metadata": {
        "id": "qtZClSJy7Kq7"
      },
      "source": [
        "import numpy\n",
        "from pylab import imshow, show\n",
        "\n",
        "def mandel(x, y, max_iters):\n",
        "  \"\"\"\n",
        "    Given the real and imaginary parts of a complex number,\n",
        "    determine if it is a candidate for membership in the Mandelbrot\n",
        "    set given a fixed number of iterations.\n",
        "  \"\"\"\n",
        "  c = complex(x, y)\n",
        "  z = 0.0j\n",
        "  for i in range(max_iters):\n",
        "    z = z*z + c\n",
        "    if (z.real*z.real + z.imag*z.imag) >= 4:\n",
        "      return i\n",
        "  return max_iters\n",
        "\n",
        "def create_fractal(min_x, max_x, min_y, max_y, image, iters):\n",
        "  height = image.shape[0]\n",
        "  width = image.shape[1]\n",
        "  pixel_size_x = (max_x - min_x) / width\n",
        "  pixel_size_y = (max_y - min_y) / height\n",
        "    \n",
        "  for x in range(width):\n",
        "    real = min_x + x * pixel_size_x\n",
        "    for y in range(height):\n",
        "      imag = min_y + y * pixel_size_y\n",
        "      color = mandel(real, imag, iters)\n",
        "      image[y, x] = color\n",
        "\n",
        "image = numpy.zeros((1024, 1536), dtype = numpy.uint8)\n",
        "create_fractal(-2.0, 1.0, -1.0, 1.0, image, 20) \n",
        "\n",
        "imshow(image)\n",
        "show()"
      ],
      "execution_count": null,
      "outputs": []
    },
    {
      "cell_type": "markdown",
      "metadata": {
        "id": "hhfP9gjT7KrI"
      },
      "source": [
        "## 2. Les variables\n",
        "---\n",
        "Un premier exemple:"
      ]
    },
    {
      "cell_type": "code",
      "metadata": {
        "id": "NECPUKRx7KrL"
      },
      "source": [
        "x = 2\n",
        "y = x\n",
        "print(x, y)\n",
        "y = 3\n",
        "print(x, y)"
      ],
      "execution_count": null,
      "outputs": []
    },
    {
      "cell_type": "markdown",
      "metadata": {
        "id": "_ukThI5d7KrV"
      },
      "source": [
        "**Notes:** \n",
        "* `2` et `3` sont des *objets* de *type entier* (cf plus tard)\n",
        "* `x` et `y` sont des identifiants qui font référence à l'un de ces objets\n",
        "* règle de style: on met un espace après une virgule mais pas avant"
      ]
    },
    {
      "cell_type": "markdown",
      "metadata": {
        "id": "jj5eJaGR7Krb"
      },
      "source": [
        "**Echanger les valeurs de deux variables**\n",
        "\n",
        "---\n"
      ]
    },
    {
      "cell_type": "code",
      "metadata": {
        "id": "2tKHOp4j7Krd"
      },
      "source": [
        "x = 2\n",
        "y = 3\n",
        "#échanger la valeur des 2 variables ici\n",
        "\n",
        "print(x, y)"
      ],
      "execution_count": null,
      "outputs": []
    },
    {
      "cell_type": "code",
      "metadata": {
        "id": "WzN6qiBj7Krq"
      },
      "source": [
        "#Méthode fausse\n",
        "x = 2\n",
        "y = 3\n",
        "x = y\n",
        "y = x\n",
        "print(x, y)\n",
        "\n",
        "#première méthode\n",
        "x = 2\n",
        "y = 3\n",
        "z = x\n",
        "x = y\n",
        "y = z\n",
        "print(x, y)\n",
        "\n",
        "#deuxième méthode plus pythonesque: utilisation de tuples\n",
        "x = 2\n",
        "y = 3\n",
        "x, y = y, x\n",
        "print(x, y)"
      ],
      "execution_count": null,
      "outputs": []
    },
    {
      "cell_type": "markdown",
      "metadata": {
        "id": "TNXVt-ww7Krz"
      },
      "source": [
        "**Question**: et permuter 3 variables circulairement?"
      ]
    },
    {
      "cell_type": "code",
      "metadata": {
        "id": "9hr5zEW_7Kr1"
      },
      "source": [
        "x, y, z = 2, 3, 4\n",
        "x, y, z = y, z, x\n",
        "print(x, y, z)"
      ],
      "execution_count": null,
      "outputs": []
    },
    {
      "cell_type": "code",
      "metadata": {
        "id": "oFL-nTlQ7KsA"
      },
      "source": [
        ""
      ],
      "execution_count": null,
      "outputs": []
    },
    {
      "cell_type": "markdown",
      "metadata": {
        "id": "cS_IGdvf7KsL"
      },
      "source": [
        "**Remarque**: on a ajouté un commentaire avec le caractère `#` "
      ]
    },
    {
      "cell_type": "markdown",
      "metadata": {
        "id": "eLTqQZq_7KsN"
      },
      "source": [
        "**Remarques sur l'affectation**\n",
        "\n",
        "---\n",
        "Contrairement à l'égalité en maths, l'opérateur d'affectation `=` n'est pas symétrique:"
      ]
    },
    {
      "cell_type": "code",
      "metadata": {
        "id": "OyBob0t_7KsP"
      },
      "source": [
        "5 = x"
      ],
      "execution_count": null,
      "outputs": []
    },
    {
      "cell_type": "markdown",
      "metadata": {
        "id": "Bv_N_OBM7KsZ"
      },
      "source": [
        "* l'opérande de gauche doit être une variable\n",
        "* l'opérande de droite doit être une expression ($\\approx$ avoir une valeur)"
      ]
    },
    {
      "cell_type": "markdown",
      "metadata": {
        "id": "gMaDx6uY7Ksc"
      },
      "source": [
        "**Règles de nommage des variables**\n",
        "\n",
        "---\n",
        "\n",
        "* caractères autorisés:\n",
        "    * caractère alphabétique (A à Z) en majuscule ou minuscule\n",
        "    * chiffres (0 à 9)\n",
        "    * caractère souligné `_` (touche 8 du clavier)\n",
        "    * et c'est tout! Ni espace, ni caractères accentués...\n",
        "* le nom ne doit pas commencer par un chiffre\n",
        "* Python est sensible à la casse: les variables `toto` et `toTo` sont différentes\n",
        "* ne pas utiliser un mot réservé du langage comme `print` et toutes les fonctions natives que nous verrons\n",
        "* recommandations annexes:\n",
        "    * sauf exceptions, donner un nom explicite aux variables tel `nb_de_vie`\n",
        "    * suivre cet exemple, cad séparer les mots par des `_` sans majuscules\n",
        "    * éviter d'autres formes telles `NbDeVie`; au moins être cohérent dans tout le programme\n"
      ]
    },
    {
      "cell_type": "markdown",
      "metadata": {
        "id": "DbkXZFKk7Ksf"
      },
      "source": [
        "## 3. Types de données\n",
        "---\n",
        "\n",
        "Le type d'une donnée détermine:\n",
        "* les opérations que l'on peut lui appliquer\n",
        "* les valeurs qu'elle peut prendre\n",
        "\n",
        "Les types prédéfinis que l'on va manipuler au début sont:\n",
        "* les nombres entiers\n",
        "* les nombres flottants\n",
        "* les nombres booléens\n",
        "* les chaînes de caractères\n",
        "\n",
        "**Question**: donner des exemples d'opérations que l'on doit pouvoir faire avec ces types."
      ]
    },
    {
      "cell_type": "markdown",
      "metadata": {
        "id": "Obigdek97Ksh"
      },
      "source": [
        "**Afficher les types**\n",
        "\n",
        "---"
      ]
    },
    {
      "cell_type": "code",
      "metadata": {
        "id": "9oe_7phg7Ksi",
        "outputId": "04a508f8-8621-4d6c-8504-0d578fd42959",
        "colab": {
          "base_uri": "https://localhost:8080/",
          "height": 34
        }
      },
      "source": [
        "a = 5\n",
        "print(type(a), type(7))"
      ],
      "execution_count": 1,
      "outputs": [
        {
          "output_type": "stream",
          "text": [
            "<class 'int'> <class 'int'>\n"
          ],
          "name": "stdout"
        }
      ]
    },
    {
      "cell_type": "code",
      "metadata": {
        "id": "C_sp7v3R7Ksu"
      },
      "source": [
        "a = 3.14\n",
        "print(type(a))"
      ],
      "execution_count": null,
      "outputs": []
    },
    {
      "cell_type": "code",
      "metadata": {
        "id": "AnsFgCTb7Ks6"
      },
      "source": [
        "a = (5 < 2)\n",
        "print(a, type(a))"
      ],
      "execution_count": null,
      "outputs": []
    },
    {
      "cell_type": "code",
      "metadata": {
        "id": "ItfeyhWl7KtE"
      },
      "source": [
        "print(type(\"hello world\"))"
      ],
      "execution_count": null,
      "outputs": []
    },
    {
      "cell_type": "markdown",
      "metadata": {
        "id": "fQTVH8JY7KtO"
      },
      "source": [
        "**Remarque**: le type d'une variable peut changer au cours du temps, et il n'est pas explicité par le programmeur (typage *dynamique* et *implicite*)."
      ]
    },
    {
      "cell_type": "markdown",
      "metadata": {
        "id": "bHCUfMpY7KtQ"
      },
      "source": [
        "**Type entier**\n",
        "\n",
        "---\n",
        "Les entiers ont une précision arbitraire."
      ]
    },
    {
      "cell_type": "code",
      "metadata": {
        "id": "v1icYuZK7KtR"
      },
      "source": [
        "a = 10 ** 10\n",
        "print(a ** 10)"
      ],
      "execution_count": null,
      "outputs": []
    },
    {
      "cell_type": "markdown",
      "metadata": {
        "id": "IF1g_7f07Kta"
      },
      "source": [
        "* division entière"
      ]
    },
    {
      "cell_type": "code",
      "metadata": {
        "id": "uDeDqOD17Ktc"
      },
      "source": [
        "10 // 3"
      ],
      "execution_count": null,
      "outputs": []
    },
    {
      "cell_type": "markdown",
      "metadata": {
        "id": "KvYbX_d47Kto"
      },
      "source": [
        "* division flottante"
      ]
    },
    {
      "cell_type": "code",
      "metadata": {
        "id": "pZbyxsro7Ktr"
      },
      "source": [
        "10 / 3"
      ],
      "execution_count": null,
      "outputs": []
    },
    {
      "cell_type": "markdown",
      "metadata": {
        "id": "l4k_5v_17Kt3"
      },
      "source": [
        "* modulo"
      ]
    },
    {
      "cell_type": "code",
      "metadata": {
        "id": "iuJ1HB8T7Kt5"
      },
      "source": [
        "10 % 3"
      ],
      "execution_count": null,
      "outputs": []
    },
    {
      "cell_type": "markdown",
      "metadata": {
        "id": "ZgIkm3Vg7KuE"
      },
      "source": [
        "**Questions**\n",
        "\n",
        "---\n",
        "Marcel met 17 minutes et 37 secondes pour venir à la fac. Combien de secondes cela fait-il au total?"
      ]
    },
    {
      "cell_type": "code",
      "metadata": {
        "id": "5usJwijb7KuG",
        "outputId": "852183f7-4904-4919-abc0-2add2c1f77bb",
        "colab": {
          "base_uri": "https://localhost:8080/",
          "height": 34
        }
      },
      "source": [
        "res = 17 * 60 + 37\n",
        "print(res)"
      ],
      "execution_count": 4,
      "outputs": [
        {
          "output_type": "stream",
          "text": [
            "1057\n"
          ],
          "name": "stdout"
        }
      ]
    },
    {
      "cell_type": "code",
      "metadata": {
        "id": "ARnoaZju7KuQ"
      },
      "source": [
        ""
      ],
      "execution_count": null,
      "outputs": []
    },
    {
      "cell_type": "markdown",
      "metadata": {
        "id": "bm99zIcl7Kuc"
      },
      "source": [
        "Il fait l'aller retour cinq fois par semaines. Combien d'heures, minutes et seconde passe-t'il à faire ce trajet dans la semaine?"
      ]
    },
    {
      "cell_type": "code",
      "metadata": {
        "id": "Xe1f9Rui7Kue",
        "outputId": "7f75766e-6aa1-41c0-cd5d-de86738078b2",
        "colab": {
          "base_uri": "https://localhost:8080/",
          "height": 34
        }
      },
      "source": [
        "s_tot = 2 * 5 * res\n",
        "h = s_tot // 3600\n",
        "s_tot = s_tot % 3600\n",
        "m = s_tot // 60\n",
        "s = s_tot % 60\n",
        "print(h, m, s)"
      ],
      "execution_count": 5,
      "outputs": [
        {
          "output_type": "stream",
          "text": [
            "2 56 10\n"
          ],
          "name": "stdout"
        }
      ]
    },
    {
      "cell_type": "code",
      "metadata": {
        "id": "L2_Zj8ql7Kuo"
      },
      "source": [
        ""
      ],
      "execution_count": null,
      "outputs": []
    },
    {
      "cell_type": "markdown",
      "metadata": {
        "id": "NsGhkB8U7Kuz"
      },
      "source": [
        "**Opérateurs d'affectation augmentés**\n",
        "\n",
        "---\n",
        "Ajouter la valeur de `b` à la variable `a`:"
      ]
    },
    {
      "cell_type": "code",
      "metadata": {
        "id": "_DLrlyxH7Ku2"
      },
      "source": [
        "a, b = 2, 3\n",
        "a += b\n",
        "print(a)"
      ],
      "execution_count": null,
      "outputs": []
    },
    {
      "cell_type": "markdown",
      "metadata": {
        "id": "UlHnVKqx7Ku_"
      },
      "source": [
        "Incrémenter (ajouter 1 à une) variable:"
      ]
    },
    {
      "cell_type": "code",
      "metadata": {
        "id": "lA58SO4F7KvC"
      },
      "source": [
        "a += 1\n",
        "print(a)"
      ],
      "execution_count": null,
      "outputs": []
    },
    {
      "cell_type": "markdown",
      "metadata": {
        "id": "z3aqL0HY7KvK"
      },
      "source": [
        "Autres opérateurs: `-=`, `*=`, etc..."
      ]
    },
    {
      "cell_type": "markdown",
      "metadata": {
        "id": "MM8T40hP7KvN"
      },
      "source": [
        "**Type flottant**\n",
        "\n",
        "---\n",
        "Pour la plupart des nombres à virgule, on manipule une *approximation* de leur valeur."
      ]
    },
    {
      "cell_type": "code",
      "metadata": {
        "id": "ocAAzK9f7KvP"
      },
      "source": [
        "3 * 0.1 == 0.3"
      ],
      "execution_count": null,
      "outputs": []
    },
    {
      "cell_type": "markdown",
      "metadata": {
        "id": "4Rxk1U_c7Kvf"
      },
      "source": [
        "La valeur exacte d'un flottant est donné par la fraction des 2 nombres suivants:"
      ]
    },
    {
      "cell_type": "code",
      "metadata": {
        "id": "gHJXtJEP7Kvg"
      },
      "source": [
        "(0.1).as_integer_ratio()"
      ],
      "execution_count": null,
      "outputs": []
    },
    {
      "cell_type": "markdown",
      "metadata": {
        "id": "Rf9EszWn7Kvu"
      },
      "source": [
        "Les librairies `decimal` ou `fractions` permettent de faire du calcul exact."
      ]
    },
    {
      "cell_type": "markdown",
      "metadata": {
        "id": "GpjEVB5T7Kvx"
      },
      "source": [
        "**Utiliser des fonctions réelles standard**\n",
        "\n",
        "---"
      ]
    },
    {
      "cell_type": "code",
      "metadata": {
        "id": "bgE-4UCs7Kv0"
      },
      "source": [
        "cos(3.14)"
      ],
      "execution_count": null,
      "outputs": []
    },
    {
      "cell_type": "code",
      "metadata": {
        "id": "dRyH-mJQ7KwD"
      },
      "source": [
        "import math\n",
        "math.cos(math.pi)"
      ],
      "execution_count": null,
      "outputs": []
    },
    {
      "cell_type": "markdown",
      "metadata": {
        "id": "CdhDIth37KwM"
      },
      "source": [
        "La fonction cosinus n'est pas native de Python. Elle est dans le *module* `math`."
      ]
    },
    {
      "cell_type": "markdown",
      "metadata": {
        "id": "D6zmV_l87KwN"
      },
      "source": [
        "**Type booléen**\n",
        "\n",
        "---\n",
        "Utile pour les *instructions de contrôle* d'un programme.\n",
        "* Deux valeurs: `False` et `True`.\n",
        "* Opérateurs de l'algèbre de Boole: `and`, `or`, `not`\n",
        "* Opérateurs de comparaison:\n",
        "    * `>=` supérieur ou égal\n",
        "    * `==` test d'égalité\n",
        "    * `!=` test de non égalité\n",
        "   \n",
        "**Question**: tester si une variable est plus petite ou égale à 0 ou bien comprise entre 1 et 3 sans être entière. \n"
      ]
    },
    {
      "cell_type": "code",
      "metadata": {
        "id": "hcikXnIY7Kwa",
        "outputId": "c5ce0fb2-de98-483c-ba03-f3e072fdd57c",
        "colab": {
          "base_uri": "https://localhost:8080/",
          "height": 34
        }
      },
      "source": [
        "a = -0.5\n",
        "res = (a <= 0) or (a > 1 and a < 3 and a != 2)\n",
        "print(res)"
      ],
      "execution_count": 2,
      "outputs": [
        {
          "output_type": "stream",
          "text": [
            "True\n"
          ],
          "name": "stdout"
        }
      ]
    },
    {
      "cell_type": "code",
      "metadata": {
        "id": "H5WdUtKQ7Kwl"
      },
      "source": [
        ""
      ],
      "execution_count": null,
      "outputs": []
    },
    {
      "cell_type": "markdown",
      "metadata": {
        "id": "n_ZxKsMR7Kws"
      },
      "source": [
        "**Chaînes de caractères (string)**\n",
        "\n",
        "---\n",
        "Suite de caractères entre guillemets (simple ou double)."
      ]
    },
    {
      "cell_type": "code",
      "metadata": {
        "id": "UMHV9QDv7Kwt"
      },
      "source": [
        "s1 = \"hello\"\n",
        "s2 = 'world'\n",
        "print(s1, s2)"
      ],
      "execution_count": null,
      "outputs": []
    },
    {
      "cell_type": "markdown",
      "metadata": {
        "id": "j8TRDQom7Kw6"
      },
      "source": [
        "Des opérations sur les chaînes de caractères sont fournies nativement:"
      ]
    },
    {
      "cell_type": "code",
      "metadata": {
        "id": "NAQfw4aQ7Kw7"
      },
      "source": [
        "print(s1 + s2)\n",
        "print(len(s1))\n",
        "print(s1 > s2)\n",
        "print(s1 in s2)\n",
        "print(s1.upper())"
      ],
      "execution_count": null,
      "outputs": []
    },
    {
      "cell_type": "markdown",
      "metadata": {
        "id": "VV6Szo0B7KxJ"
      },
      "source": [
        "**Question**: quelle est la signification de ces opérations?"
      ]
    },
    {
      "cell_type": "markdown",
      "metadata": {
        "id": "v_MhbkWB7KxL"
      },
      "source": [
        "**Connaître plus de fonctions de manipulations des chaînes de caractères**\n",
        "\n",
        "---\n",
        "\n",
        "* documentation officielle Python3: [https://docs.python.org/fr/3/library/stdtypes.html#text-sequence-type-str](https://docs.python.org/fr/3/library/stdtypes.html#text-sequence-type-str)\n",
        "* faire une recherche sur internet (par exemple sur [stackoverflow](https://stackoverflow.com/)) pour un usage précis\n",
        "* directement dans l'interpréteur:"
      ]
    },
    {
      "cell_type": "code",
      "metadata": {
        "id": "HGzYgz1F7KxM"
      },
      "source": [
        "help(str)"
      ],
      "execution_count": null,
      "outputs": []
    },
    {
      "cell_type": "markdown",
      "metadata": {
        "id": "3eWGViFS7KxV"
      },
      "source": [
        "Cela fonctionne avec n'importe quel type d'objet:"
      ]
    },
    {
      "cell_type": "code",
      "metadata": {
        "id": "JqxKg2rP7KxW"
      },
      "source": [
        "help(float)"
      ],
      "execution_count": null,
      "outputs": []
    },
    {
      "cell_type": "markdown",
      "metadata": {
        "id": "aQcMb0xp7Kxf"
      },
      "source": [
        "**Des affichages plus sympas**\n",
        "\n",
        "---"
      ]
    },
    {
      "cell_type": "code",
      "metadata": {
        "id": "6L75I6Nz7Kxg"
      },
      "source": [
        "x, y = 2, 3.5\n",
        "print(\"x vaut\", x, \"et y vaut\", y)"
      ],
      "execution_count": null,
      "outputs": []
    },
    {
      "cell_type": "markdown",
      "metadata": {
        "id": "WLC4DbYm7Kxt"
      },
      "source": [
        "**Remarque**: la fonction `print` ajoute un espace entre l'affichage de chacun de ses *arguments* et un *retour à la ligne* à la fin.\n",
        "\n",
        "Arguments $=$ expressions séparées par des virgules entre les parenthèses. "
      ]
    },
    {
      "cell_type": "markdown",
      "metadata": {
        "id": "dAyBU7cL7Kxz"
      },
      "source": [
        "**Concaténation**\n",
        "\n",
        "---\n",
        "L'opérateur `+` fait la *concaténation* de deux chaînes de caractères.\n",
        "\n",
        "Attention à ne pas mélanger les types:"
      ]
    },
    {
      "cell_type": "code",
      "metadata": {
        "id": "4E96oZki7Kx1"
      },
      "source": [
        "\"hello\" + 3"
      ],
      "execution_count": null,
      "outputs": []
    },
    {
      "cell_type": "markdown",
      "metadata": {
        "id": "knXJvVsS7KyD"
      },
      "source": [
        "**Concaténation**\n",
        "\n",
        "---\n",
        "\n",
        "Ce qui suit est légal. Devinez le sens de cette expression:"
      ]
    },
    {
      "cell_type": "code",
      "metadata": {
        "id": "KQR_PChb7KyF"
      },
      "source": [
        "print(\"hello\" * 3)"
      ],
      "execution_count": null,
      "outputs": []
    },
    {
      "cell_type": "markdown",
      "metadata": {
        "id": "5Iewm6FG7KyR"
      },
      "source": [
        "Comment faire pour afficher 3 fois `hello` en revenant à la ligne à chaque fois?"
      ]
    },
    {
      "cell_type": "code",
      "metadata": {
        "id": "Rtu64eK37KyS"
      },
      "source": [
        "print(\"hello\\n\"*3)"
      ],
      "execution_count": null,
      "outputs": []
    },
    {
      "cell_type": "markdown",
      "metadata": {
        "id": "e_em_AQ27Kya"
      },
      "source": [
        "On utilise le retour à la ligne `\\n`."
      ]
    },
    {
      "cell_type": "markdown",
      "metadata": {
        "id": "b_EJz7Lm7Kyc"
      },
      "source": [
        "**Conversion de types**\n",
        "\n",
        "---\n",
        "* Le mélange de flottants et d'entiers dans une expression numérique donne une valeur flottante"
      ]
    },
    {
      "cell_type": "code",
      "metadata": {
        "id": "kcCsmI3o7Kye"
      },
      "source": [
        "print(type(5 + 2.0))\n",
        "print(type(7 * 1.0))"
      ],
      "execution_count": null,
      "outputs": []
    },
    {
      "cell_type": "markdown",
      "metadata": {
        "id": "jj2BG3Ue7Kyl"
      },
      "source": [
        "* Fonctions de conversion (utilisable quand cela a un sens):\n",
        "    * `int`: conversion en entier\n",
        "    * `float`: conversion en flottant\n",
        "    * `str`: conversion en chaîne de caractères"
      ]
    },
    {
      "cell_type": "code",
      "metadata": {
        "id": "C8VJ4Vqb7Kym",
        "outputId": "c51c6896-127c-46bf-bb8a-73da205d3730",
        "colab": {
          "base_uri": "https://localhost:8080/",
          "height": 34
        }
      },
      "source": [
        "x, y = 2, 3.5\n",
        "s = \"x vaut \" + str(x) + \" et y vaut \" + str(y)\n",
        "print(s)"
      ],
      "execution_count": 7,
      "outputs": [
        {
          "output_type": "stream",
          "text": [
            "x vaut 2 et y vaut 3.5\n"
          ],
          "name": "stdout"
        }
      ]
    },
    {
      "cell_type": "markdown",
      "metadata": {
        "id": "NzcnBO7G7Kyu"
      },
      "source": [
        "**Récupérer une valeur tapée au clavier par un utilisateur**\n",
        "\n",
        "---"
      ]
    },
    {
      "cell_type": "code",
      "metadata": {
        "id": "O9oAgmvi7Kyv"
      },
      "source": [
        "s = input(\"Entrer un texte\\n\")\n",
        "print(s)"
      ],
      "execution_count": null,
      "outputs": []
    },
    {
      "cell_type": "code",
      "metadata": {
        "id": "2RcjXjwv7Ky2"
      },
      "source": [
        "s = input(\"entrer un nombre entier\\n\")\n",
        "print(\"le nombre qui le précède est\", s - 1)"
      ],
      "execution_count": null,
      "outputs": []
    },
    {
      "cell_type": "code",
      "metadata": {
        "id": "xl66eQ0h7KzB"
      },
      "source": [
        "s = input(\"entrer un nombre entier\\n\")\n",
        "print(\"le nombre qui le précède est\", int(s) - 1)"
      ],
      "execution_count": null,
      "outputs": []
    },
    {
      "cell_type": "markdown",
      "metadata": {
        "id": "EyMn2qkz7KzI"
      },
      "source": [
        "**Questions**\n",
        "\n",
        "---\n",
        "* deviner ce que pourrait valoir les expressions `-1 % 5`, `int(3.14)`, `int(-3.14)`\n",
        "* demander un nombre entier à l'utilisateur, puis écrire une expression qui retourne `True` si le nombre est pair, et `False` sinon;\n",
        "* écrire une expression qui permet de récupérer le nombre de chiffres de la représentation décimale d'un entier, par exemple de `3 ** 57`;\n",
        "* afficher ensuite le chiffre le plus à gauche de ce nombre."
      ]
    },
    {
      "cell_type": "code",
      "metadata": {
        "id": "sKiOunwz7KzL"
      },
      "source": [
        "print(3 ** 57, \"le nombre de chiffres est\", len(str(3 ** 57)))\n",
        "s = input(\"Entrer un nombre entier\\n\")\n",
        "print(int(s) % 2 == 0)\n",
        "#pour afficher le chiffre, il faut se débrouiller avec ce qu'on connait...\n",
        "long = len(s)\n",
        "print(int(s) // 10 ** (long - 1))\n",
        "#la bonne solution (qu'on verra plus tard avec les listes)\n",
        "print(s[0])"
      ],
      "execution_count": null,
      "outputs": []
    },
    {
      "cell_type": "code",
      "metadata": {
        "id": "4S3wSgl67KzV"
      },
      "source": [
        ""
      ],
      "execution_count": null,
      "outputs": []
    }
  ]
}